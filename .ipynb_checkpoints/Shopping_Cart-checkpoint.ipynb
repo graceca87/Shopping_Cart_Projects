{
 "cells": [
  {
   "cell_type": "code",
   "execution_count": 2,
   "metadata": {},
   "outputs": [
    {
     "name": "stdout",
     "output_type": "stream",
     "text": [
      "\n",
      "Thank you! 3 turkey(s) have been added to your cart.\n"
     ]
    }
   ],
   "source": [
    "from IPython.display import clear_output\n",
    "\n",
    "\n",
    "shopping_cart = []\n",
    "\n",
    "def create_new_item():  #create a function \n",
    "    item = {                        # I created a dictionary called \"item\" within the function\n",
    "        \"name\" : \"\",                # name is the name of the new item. We don't know the name yet, so the value is an empty string\n",
    "        \"price\" : 0,                # we don't know the price yet, so we are putting it at zero\n",
    "        \"quantity\" : 0              # we don't know the quantity yet, so we'll put this at zero also\n",
    "\n",
    "    }\n",
    "    new_item = item                                                                ## I'm creating a variable for the item that I'm about to add (new_item). Since new_item = item, new_item will have all the attributes that I've already set for item.                                \n",
    "\n",
    "    item_name = input(\"\\nWhat type of item would you like to add? \")          #python predefined funtion (input) will retrieve the information I'm looking for (name)      \n",
    "    new_item[\"name\"] = item_name                 #I'm telling the computer what to do with the information received in item_name. It needs to go into a dictionary. It should be a key within my (item) dictionary that is now called new_item.\n",
    "\n",
    "    item_price = input(f\"\\nWhat is the price of one {item_name}? $\") #asking for a price and giving that a variable (item_price)\n",
    "    item_price = float(item_price)                               #since we don't want a string, we will assume the price is a float and will turn the input into a float.\n",
    "    new_item[\"price\"] += item_price\n",
    "\n",
    "    item_quantity = input(f\"\\nHow many {item_name}'s do you want? \")   #asking another question\n",
    "    item_quantity = int(item_quantity)                               #input is always going to output a string. Since I'm looking for an integer i need to tell the comp to turn item_quantity into an integer here.\n",
    "    new_item[\"quantity\"] += item_quantity\n",
    "    \n",
    "    clear_output()\n",
    "                              \n",
    "    added_message = (f\"\\nThank you! {item_quantity} {item_name}(s) have been added to your cart.\")\n",
    "    print(added_message)\n",
    "    return new_item\n",
    "\n",
    "def show_cart(list_of_items):\n",
    "    print(\"\\nHere are the items in your cart: \")\n",
    "    for item in list_of_items:\n",
    "        plural = \"\"\n",
    "        if item[\"quantity\"] > 1:\n",
    "            plural = \"s\"\n",
    "        \n",
    "        message = f\"\\n{item['quantity']} {item['name']}{plural} : ${item['price']:.2f}\"\n",
    "        print(message)\n",
    "\n",
    "def calculate_subtotal(item):\n",
    "    subtotal = item['quantity'] * item['price']\n",
    "    return subtotal\n",
    "\n",
    "def calculate_total(list_of_items):\n",
    "    total = 0\n",
    "    for item in list_of_items:\n",
    "        subtotal = calculate_subtotal(item)\n",
    "        total += subtotal\n",
    "    return total\n",
    "\n",
    "\n",
    "def remove_item(list_of_items):\n",
    "\n",
    "    item_to_remove = input(\"\\nWhich item would you like to remove? \")\n",
    "    quantity_to_remove = input(f\"\\nHow many {item_to_remove}'s do you want to remove? \")\n",
    "    quantity_to_remove = int(quantity_to_remove)\n",
    "    for item in list_of_items:\n",
    "        if item_to_remove.lower() == item['name'].lower():\n",
    "            item['quantity'] -= quantity_to_remove\n",
    "    print(\"\\nThank you! {quantity_to_remove} {items_to_remove}(s) removed from cart\")\n",
    "    return(list_of_items)\n",
    "\n",
    "while True:\n",
    "    what_to_do = input(\"\\nWhat would you like to do? (add item, remove item, show cart, or quit): \") \n",
    "    # new_item = create_new_item()\n",
    "    # shopping_cart.append(new_item)\n",
    "\n",
    "    if what_to_do == \"add item\".lower():\n",
    "        new_item = create_new_item()\n",
    "        shopping_cart.append(new_item)\n",
    "\n",
    "\n",
    "    if what_to_do == \"remove item\".lower():\n",
    "        remove_item(shopping_cart)\n",
    "\n",
    "    if what_to_do == \"show cart\".lower():\n",
    "        show_cart(shopping_cart)\n",
    "        calculate_subtotal(shopping_cart)\n",
    "\n",
    "    if what_to_do == \"quit\".lower():\n",
    "        calculate_subtotal(shopping_cart)\n",
    "        calculate_total(shopping_cart)\n",
    "\n",
    "\n"
   ]
  }
 ],
 "metadata": {
  "kernelspec": {
   "display_name": "Python 3.10.5 64-bit",
   "language": "python",
   "name": "python3"
  },
  "language_info": {
   "codemirror_mode": {
    "name": "ipython",
    "version": 3
   },
   "file_extension": ".py",
   "mimetype": "text/x-python",
   "name": "python",
   "nbconvert_exporter": "python",
   "pygments_lexer": "ipython3",
   "version": "3.10.5"
  },
  "vscode": {
   "interpreter": {
    "hash": "aee8b7b246df8f9039afb4144a1f6fd8d2ca17a180786b69acc140d282b71a49"
   }
  }
 },
 "nbformat": 4,
 "nbformat_minor": 5
}
